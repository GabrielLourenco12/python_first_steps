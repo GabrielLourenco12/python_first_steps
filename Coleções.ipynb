{
  "nbformat": 4,
  "nbformat_minor": 0,
  "metadata": {
    "colab": {
      "name": "Coleções.ipynb",
      "provenance": [],
      "collapsed_sections": [],
      "include_colab_link": true
    },
    "kernelspec": {
      "name": "python3",
      "display_name": "Python 3"
    }
  },
  "cells": [
    {
      "cell_type": "markdown",
      "metadata": {
        "id": "view-in-github",
        "colab_type": "text"
      },
      "source": [
        "<a href=\"https://colab.research.google.com/github/GabrielLourenco12/python_first_steps/blob/master/Cole%C3%A7%C3%B5es.ipynb\" target=\"_parent\"><img src=\"https://colab.research.google.com/assets/colab-badge.svg\" alt=\"Open In Colab\"/></a>"
      ]
    },
    {
      "cell_type": "markdown",
      "metadata": {
        "id": "--0h-g8oKeoy"
      },
      "source": [
        "# Coleções"
      ]
    },
    {
      "cell_type": "markdown",
      "metadata": {
        "id": "SeYvjhqqKg_c"
      },
      "source": [
        "## Tuplas"
      ]
    },
    {
      "cell_type": "code",
      "metadata": {
        "id": "3-eVcVkon0cf"
      },
      "source": [
        "tupla = ('Homo sapiens', 'Canis familiaris', 'Felis catus')"
      ],
      "execution_count": null,
      "outputs": []
    },
    {
      "cell_type": "code",
      "metadata": {
        "id": "MFQxX8UeoCM8",
        "outputId": "fef13860-37ce-4f72-9883-e18bf6e72503",
        "colab": {
          "base_uri": "https://localhost:8080/",
          "height": 34
        }
      },
      "source": [
        "tupla"
      ],
      "execution_count": null,
      "outputs": [
        {
          "output_type": "execute_result",
          "data": {
            "text/plain": [
              "('Homo sapiens', 'Canis familiaris', 'Felis catus')"
            ]
          },
          "metadata": {
            "tags": []
          },
          "execution_count": 2
        }
      ]
    },
    {
      "cell_type": "code",
      "metadata": {
        "id": "EzVM_YO-oD4b",
        "outputId": "2122cefa-03b2-4eeb-d900-4225649deb2d",
        "colab": {
          "base_uri": "https://localhost:8080/",
          "height": 35
        }
      },
      "source": [
        "tupla[0]"
      ],
      "execution_count": null,
      "outputs": [
        {
          "output_type": "execute_result",
          "data": {
            "application/vnd.google.colaboratory.intrinsic+json": {
              "type": "string"
            },
            "text/plain": [
              "'Homo sapiens'"
            ]
          },
          "metadata": {
            "tags": []
          },
          "execution_count": 3
        }
      ]
    },
    {
      "cell_type": "code",
      "metadata": {
        "id": "Ppce8AdNoTK4",
        "outputId": "5c861615-a71e-4318-8002-a9d3d5d19bff",
        "colab": {
          "base_uri": "https://localhost:8080/",
          "height": 34
        }
      },
      "source": [
        "tupla.index('Canis familiaris')"
      ],
      "execution_count": null,
      "outputs": [
        {
          "output_type": "execute_result",
          "data": {
            "text/plain": [
              "1"
            ]
          },
          "metadata": {
            "tags": []
          },
          "execution_count": 4
        }
      ]
    },
    {
      "cell_type": "code",
      "metadata": {
        "id": "6d9gkoZyoZ-P",
        "outputId": "c2d646d1-e900-4a37-a21e-1e5c40ecdcf8",
        "colab": {
          "base_uri": "https://localhost:8080/",
          "height": 67
        }
      },
      "source": [
        "for elemento in tupla:\n",
        "  print(elemento)"
      ],
      "execution_count": null,
      "outputs": [
        {
          "output_type": "stream",
          "text": [
            "Homo sapiens\n",
            "Canis familiaris\n",
            "Felis catus\n"
          ],
          "name": "stdout"
        }
      ]
    },
    {
      "cell_type": "markdown",
      "metadata": {
        "id": "N7zPJp9PK5lw"
      },
      "source": [
        "## Listas"
      ]
    },
    {
      "cell_type": "code",
      "metadata": {
        "id": "5ytZczB2ommH"
      },
      "source": [
        "l1 = ['Homo sapiens', 'Canis familiaris', 'Felis catus']\n",
        "l2 = ['Xenopus laevis', 'Ailuropoda melanoleuca']"
      ],
      "execution_count": null,
      "outputs": []
    },
    {
      "cell_type": "code",
      "metadata": {
        "id": "19OHKWNIo2jN",
        "outputId": "2f8b3b43-5d71-4dde-a873-abdcc221867c",
        "colab": {
          "base_uri": "https://localhost:8080/",
          "height": 54
        }
      },
      "source": [
        "l3 = l1 + l2\n",
        "print(l3)"
      ],
      "execution_count": null,
      "outputs": [
        {
          "output_type": "stream",
          "text": [
            "['Homo sapiens', 'Canis familiaris', 'Felis catus', 'Xenopus laevis', 'Ailuropoda melanoleuca']\n"
          ],
          "name": "stdout"
        }
      ]
    },
    {
      "cell_type": "code",
      "metadata": {
        "id": "v4WmPWV6o-hz",
        "outputId": "d5ee4295-ae64-4aa5-b34a-4339d82202f9",
        "colab": {
          "base_uri": "https://localhost:8080/",
          "height": 34
        }
      },
      "source": [
        "l2"
      ],
      "execution_count": null,
      "outputs": [
        {
          "output_type": "execute_result",
          "data": {
            "text/plain": [
              "['Xenopus laevis', 'Ailuropoda melanoleuca']"
            ]
          },
          "metadata": {
            "tags": []
          },
          "execution_count": 8
        }
      ]
    },
    {
      "cell_type": "code",
      "metadata": {
        "id": "SZR7YfLgpAua",
        "outputId": "5bb3b2da-8129-45c0-dd9a-217f28525182",
        "colab": {
          "base_uri": "https://localhost:8080/",
          "height": 54
        }
      },
      "source": [
        "l2_2 = l2 * 2\n",
        "print(l2_2)"
      ],
      "execution_count": null,
      "outputs": [
        {
          "output_type": "stream",
          "text": [
            "['Xenopus laevis', 'Ailuropoda melanoleuca', 'Xenopus laevis', 'Ailuropoda melanoleuca']\n"
          ],
          "name": "stdout"
        }
      ]
    },
    {
      "cell_type": "code",
      "metadata": {
        "id": "QZtjvcbQpNm3",
        "outputId": "04704a2c-5e17-47fb-ad6a-2e40e83409c8",
        "colab": {
          "base_uri": "https://localhost:8080/",
          "height": 35
        }
      },
      "source": [
        "l1[0]"
      ],
      "execution_count": null,
      "outputs": [
        {
          "output_type": "execute_result",
          "data": {
            "application/vnd.google.colaboratory.intrinsic+json": {
              "type": "string"
            },
            "text/plain": [
              "'Homo sapiens'"
            ]
          },
          "metadata": {
            "tags": []
          },
          "execution_count": 10
        }
      ]
    },
    {
      "cell_type": "code",
      "metadata": {
        "id": "0lx0MiBmpQYQ",
        "outputId": "bc84f17c-e092-4e7b-c6c5-5afa7bcd704f",
        "colab": {
          "base_uri": "https://localhost:8080/",
          "height": 34
        }
      },
      "source": [
        "l1"
      ],
      "execution_count": null,
      "outputs": [
        {
          "output_type": "execute_result",
          "data": {
            "text/plain": [
              "['Homo sapiens', 'Canis familiaris', 'Felis catus']"
            ]
          },
          "metadata": {
            "tags": []
          },
          "execution_count": 11
        }
      ]
    },
    {
      "cell_type": "code",
      "metadata": {
        "id": "IyfdEzispSFx",
        "outputId": "f93ca798-5e4b-461b-d84c-2eabbec404ab",
        "colab": {
          "base_uri": "https://localhost:8080/",
          "height": 34
        }
      },
      "source": [
        "l1[0:2]"
      ],
      "execution_count": null,
      "outputs": [
        {
          "output_type": "execute_result",
          "data": {
            "text/plain": [
              "['Homo sapiens', 'Canis familiaris']"
            ]
          },
          "metadata": {
            "tags": []
          },
          "execution_count": 12
        }
      ]
    },
    {
      "cell_type": "code",
      "metadata": {
        "id": "3WUtBPinpaet",
        "outputId": "a67e91ee-ffeb-4aaf-b3b7-a8456a995afd",
        "colab": {
          "base_uri": "https://localhost:8080/",
          "height": 34
        }
      },
      "source": [
        "l1.append('Gorila gorila')\n",
        "print(l1)"
      ],
      "execution_count": null,
      "outputs": [
        {
          "output_type": "stream",
          "text": [
            "['Homo sapiens', 'Canis familiaris', 'Felis catus', 'Gorila gorila']\n"
          ],
          "name": "stdout"
        }
      ]
    },
    {
      "cell_type": "code",
      "metadata": {
        "id": "6ogEdtAupg8U",
        "outputId": "7631e1fd-b72c-4995-cfe3-459db274309a",
        "colab": {
          "base_uri": "https://localhost:8080/",
          "height": 34
        }
      },
      "source": [
        "l1.remove('Felis catus')\n",
        "print(l1)"
      ],
      "execution_count": null,
      "outputs": [
        {
          "output_type": "stream",
          "text": [
            "['Homo sapiens', 'Canis familiaris', 'Gorila gorila']\n"
          ],
          "name": "stdout"
        }
      ]
    },
    {
      "cell_type": "code",
      "metadata": {
        "id": "CaO3BVMzpoi9"
      },
      "source": [
        "del(l1)"
      ],
      "execution_count": null,
      "outputs": []
    },
    {
      "cell_type": "code",
      "metadata": {
        "id": "aCi7FLacpqzS",
        "outputId": "1b0247c1-1dab-48f3-dea1-1b7681148e05",
        "colab": {
          "base_uri": "https://localhost:8080/",
          "height": 162
        }
      },
      "source": [
        "print(l1)"
      ],
      "execution_count": null,
      "outputs": [
        {
          "output_type": "error",
          "ename": "NameError",
          "evalue": "ignored",
          "traceback": [
            "\u001b[0;31m---------------------------------------------------------------------------\u001b[0m",
            "\u001b[0;31mNameError\u001b[0m                                 Traceback (most recent call last)",
            "\u001b[0;32m<ipython-input-16-9957399d2fc4>\u001b[0m in \u001b[0;36m<module>\u001b[0;34m()\u001b[0m\n\u001b[0;32m----> 1\u001b[0;31m \u001b[0mprint\u001b[0m\u001b[0;34m(\u001b[0m\u001b[0ml1\u001b[0m\u001b[0;34m)\u001b[0m\u001b[0;34m\u001b[0m\u001b[0;34m\u001b[0m\u001b[0m\n\u001b[0m",
            "\u001b[0;31mNameError\u001b[0m: name 'l1' is not defined"
          ]
        }
      ]
    },
    {
      "cell_type": "code",
      "metadata": {
        "id": "6GqeZMgVpt3A",
        "outputId": "2bc6fc46-eb22-441f-f2cf-4bcee6327d4b",
        "colab": {
          "base_uri": "https://localhost:8080/",
          "height": 84
        }
      },
      "source": [
        "for item in l2_2:\n",
        "  print(item)"
      ],
      "execution_count": null,
      "outputs": [
        {
          "output_type": "stream",
          "text": [
            "Xenopus laevis\n",
            "Ailuropoda melanoleuca\n",
            "Xenopus laevis\n",
            "Ailuropoda melanoleuca\n"
          ],
          "name": "stdout"
        }
      ]
    },
    {
      "cell_type": "markdown",
      "metadata": {
        "id": "Spv86wNVLwTr"
      },
      "source": [
        "## Dicionários"
      ]
    },
    {
      "cell_type": "code",
      "metadata": {
        "id": "Q4A9zcJQqOLl"
      },
      "source": [
        "coleta = {'Aedes aegypt': 32, 'Aedes albopictus': 22, 'Anopheles darlingi': 14}"
      ],
      "execution_count": null,
      "outputs": []
    },
    {
      "cell_type": "code",
      "metadata": {
        "id": "H0TG_BU-qqYB",
        "outputId": "a796e41a-9fb4-4a5c-ff88-0bebcaa77b82",
        "colab": {
          "base_uri": "https://localhost:8080/",
          "height": 34
        }
      },
      "source": [
        "coleta['Aedes aegypt']"
      ],
      "execution_count": null,
      "outputs": [
        {
          "output_type": "execute_result",
          "data": {
            "text/plain": [
              "32"
            ]
          },
          "metadata": {
            "tags": []
          },
          "execution_count": 19
        }
      ]
    },
    {
      "cell_type": "code",
      "metadata": {
        "id": "G0Ik3zllq03-"
      },
      "source": [
        "coleta['Rhodnius montenegrensis'] = 11"
      ],
      "execution_count": null,
      "outputs": []
    },
    {
      "cell_type": "code",
      "metadata": {
        "id": "LShnTPgOrBIP",
        "outputId": "adb8fe47-5041-4c2b-9569-d8041c17cdc8",
        "colab": {
          "base_uri": "https://localhost:8080/",
          "height": 54
        }
      },
      "source": [
        "print(coleta)"
      ],
      "execution_count": null,
      "outputs": [
        {
          "output_type": "stream",
          "text": [
            "{'Aedes aegypt': 32, 'Aedes albopictus': 22, 'Anopheles darlingi': 14, 'Rhodnius montenegrensis': 11}\n"
          ],
          "name": "stdout"
        }
      ]
    },
    {
      "cell_type": "code",
      "metadata": {
        "id": "3zyhSKk4rFxe",
        "outputId": "370e9826-6eff-43ed-8172-df97eefa7eed",
        "colab": {
          "base_uri": "https://localhost:8080/",
          "height": 34
        }
      },
      "source": [
        "del(coleta)['Aedes albopictus']\n",
        "print(coleta)"
      ],
      "execution_count": null,
      "outputs": [
        {
          "output_type": "stream",
          "text": [
            "{'Aedes aegypt': 32, 'Anopheles darlingi': 14, 'Rhodnius montenegrensis': 11}\n"
          ],
          "name": "stdout"
        }
      ]
    },
    {
      "cell_type": "code",
      "metadata": {
        "id": "aQf7FunQrPBl",
        "outputId": "0355de3d-4195-496b-cba9-7d3fa86693b0",
        "colab": {
          "base_uri": "https://localhost:8080/",
          "height": 54
        }
      },
      "source": [
        "coleta.items()"
      ],
      "execution_count": null,
      "outputs": [
        {
          "output_type": "execute_result",
          "data": {
            "text/plain": [
              "dict_items([('Aedes aegypt', 32), ('Anopheles darlingi', 14), ('Rhodnius montenegrensis', 11)])"
            ]
          },
          "metadata": {
            "tags": []
          },
          "execution_count": 24
        }
      ]
    },
    {
      "cell_type": "code",
      "metadata": {
        "id": "rBbmf65jrVf6",
        "outputId": "2ece8a33-1605-4c4c-f70b-05facfea7ea0",
        "colab": {
          "base_uri": "https://localhost:8080/",
          "height": 34
        }
      },
      "source": [
        "coleta.keys()"
      ],
      "execution_count": null,
      "outputs": [
        {
          "output_type": "execute_result",
          "data": {
            "text/plain": [
              "dict_keys(['Aedes aegypt', 'Anopheles darlingi', 'Rhodnius montenegrensis'])"
            ]
          },
          "metadata": {
            "tags": []
          },
          "execution_count": 25
        }
      ]
    },
    {
      "cell_type": "code",
      "metadata": {
        "id": "49PWs_oJrbHg",
        "outputId": "c87d6def-4b66-44dd-f907-e0c3c2a45439",
        "colab": {
          "base_uri": "https://localhost:8080/",
          "height": 34
        }
      },
      "source": [
        "coleta.values()"
      ],
      "execution_count": null,
      "outputs": [
        {
          "output_type": "execute_result",
          "data": {
            "text/plain": [
              "dict_values([32, 14, 11])"
            ]
          },
          "metadata": {
            "tags": []
          },
          "execution_count": 26
        }
      ]
    },
    {
      "cell_type": "code",
      "metadata": {
        "id": "1XQe0WHGrgoC",
        "outputId": "708d53e8-0e05-4e15-a07f-44f42b75cdcf",
        "colab": {
          "base_uri": "https://localhost:8080/",
          "height": 34
        }
      },
      "source": [
        "coleta2 = {'Anopheles gambiae': 13, 'Anopheles deaneorum': 14}\n",
        "print(coleta2)"
      ],
      "execution_count": null,
      "outputs": [
        {
          "output_type": "stream",
          "text": [
            "{'Anopheles gambiae': 13, 'Anopheles deaneorum': 14}\n"
          ],
          "name": "stdout"
        }
      ]
    },
    {
      "cell_type": "code",
      "metadata": {
        "id": "ZH7Mfel7ruCP",
        "outputId": "86942b60-da15-4bce-c165-ee5bcf1162c1",
        "colab": {
          "base_uri": "https://localhost:8080/",
          "height": 54
        }
      },
      "source": [
        "coleta.update(coleta2)\n",
        "print(coleta)"
      ],
      "execution_count": null,
      "outputs": [
        {
          "output_type": "stream",
          "text": [
            "{'Aedes aegypt': 32, 'Anopheles darlingi': 14, 'Rhodnius montenegrensis': 11, 'Anopheles gambiae': 13, 'Anopheles deaneorum': 14}\n"
          ],
          "name": "stdout"
        }
      ]
    },
    {
      "cell_type": "code",
      "metadata": {
        "id": "oeJdD_--r1sc",
        "outputId": "fd5655c7-481f-448d-f988-09d051e82be1",
        "colab": {
          "base_uri": "https://localhost:8080/",
          "height": 54
        }
      },
      "source": [
        "coleta.items()"
      ],
      "execution_count": null,
      "outputs": [
        {
          "output_type": "execute_result",
          "data": {
            "text/plain": [
              "dict_items([('Aedes aegypt', 32), ('Anopheles darlingi', 14), ('Rhodnius montenegrensis', 11), ('Anopheles gambiae', 13), ('Anopheles deaneorum', 14)])"
            ]
          },
          "metadata": {
            "tags": []
          },
          "execution_count": 29
        }
      ]
    },
    {
      "cell_type": "code",
      "metadata": {
        "id": "JheAqSC7r5YB",
        "outputId": "1baa2b44-f4f3-4927-9760-2193a6c069a0",
        "colab": {
          "base_uri": "https://localhost:8080/",
          "height": 101
        }
      },
      "source": [
        "for especie, num_especimes in coleta.items():\n",
        "  print(f'Espécie: {especie}, número de espécimes coletados: {num_especimes}')"
      ],
      "execution_count": null,
      "outputs": [
        {
          "output_type": "stream",
          "text": [
            "Espécie: Aedes aegypt, número de espécimes coletados: 32\n",
            "Espécie: Anopheles darlingi, número de espécimes coletados: 14\n",
            "Espécie: Rhodnius montenegrensis, número de espécimes coletados: 11\n",
            "Espécie: Anopheles gambiae, número de espécimes coletados: 13\n",
            "Espécie: Anopheles deaneorum, número de espécimes coletados: 14\n"
          ],
          "name": "stdout"
        }
      ]
    },
    {
      "cell_type": "markdown",
      "metadata": {
        "id": "u-3CMPGCMN_C"
      },
      "source": [
        "## Conjuntos (set)"
      ]
    },
    {
      "cell_type": "code",
      "metadata": {
        "id": "-g-6mwxHsW2L"
      },
      "source": [
        "biomeleculas = ('proteína', 'ácidos nucleicos', 'carboidrato', 'lipídeo',\n",
        "                'ácidos nucleicos', 'carboidrato', 'carboidrato', 'carboidrato')"
      ],
      "execution_count": null,
      "outputs": []
    },
    {
      "cell_type": "code",
      "metadata": {
        "id": "GawdhDILsuDp",
        "outputId": "d04c2581-3198-4adc-9068-ca0d1635c3ff",
        "colab": {
          "base_uri": "https://localhost:8080/",
          "height": 54
        }
      },
      "source": [
        "print(biomeleculas)"
      ],
      "execution_count": null,
      "outputs": [
        {
          "output_type": "stream",
          "text": [
            "('proteína', 'ácidos nucleicos', 'carboidrato', 'lipídeo', 'ácidos nucleicos', 'carboidrato', 'carboidrato', 'carboidrato')\n"
          ],
          "name": "stdout"
        }
      ]
    },
    {
      "cell_type": "code",
      "metadata": {
        "id": "wU8POR0WsxEK",
        "outputId": "88c3a20f-3b48-4ca4-e347-9537bb31d3a5",
        "colab": {
          "base_uri": "https://localhost:8080/",
          "height": 34
        }
      },
      "source": [
        "print(set(biomeleculas))"
      ],
      "execution_count": null,
      "outputs": [
        {
          "output_type": "stream",
          "text": [
            "{'lipídeo', 'carboidrato', 'ácidos nucleicos', 'proteína'}\n"
          ],
          "name": "stdout"
        }
      ]
    },
    {
      "cell_type": "code",
      "metadata": {
        "id": "ap6l5QldtB1l"
      },
      "source": [
        "c1 = {1,2,3,4,5}\n",
        "c2 = {3,4,5,6,7}\n",
        "c3 = c1.intersection(c2)"
      ],
      "execution_count": null,
      "outputs": []
    },
    {
      "cell_type": "code",
      "metadata": {
        "id": "JT7ip_ZntTHv",
        "outputId": "abc97490-d0d1-498b-b4f1-ecf99634e1bf",
        "colab": {
          "base_uri": "https://localhost:8080/",
          "height": 34
        }
      },
      "source": [
        "print(c3)"
      ],
      "execution_count": null,
      "outputs": [
        {
          "output_type": "stream",
          "text": [
            "{3, 4, 5}\n"
          ],
          "name": "stdout"
        }
      ]
    },
    {
      "cell_type": "code",
      "metadata": {
        "id": "eOycG2G9tdR9",
        "outputId": "9bd09483-2822-407c-b7d3-f50de698e679",
        "colab": {
          "base_uri": "https://localhost:8080/",
          "height": 34
        }
      },
      "source": [
        "c1.difference(c2)"
      ],
      "execution_count": null,
      "outputs": [
        {
          "output_type": "execute_result",
          "data": {
            "text/plain": [
              "{1, 2}"
            ]
          },
          "metadata": {
            "tags": []
          },
          "execution_count": 36
        }
      ]
    },
    {
      "cell_type": "code",
      "metadata": {
        "id": "inpYEBhHtl51",
        "outputId": "0c2b7cb9-133e-4b70-bf57-dd9f5cfacfc5",
        "colab": {
          "base_uri": "https://localhost:8080/",
          "height": 34
        }
      },
      "source": [
        "c2.difference(c1)"
      ],
      "execution_count": null,
      "outputs": [
        {
          "output_type": "execute_result",
          "data": {
            "text/plain": [
              "{6, 7}"
            ]
          },
          "metadata": {
            "tags": []
          },
          "execution_count": 37
        }
      ]
    }
  ]
}