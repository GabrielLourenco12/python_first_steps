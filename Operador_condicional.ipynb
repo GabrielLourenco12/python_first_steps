{
  "nbformat": 4,
  "nbformat_minor": 0,
  "metadata": {
    "colab": {
      "name": "Operador condicional.ipynb",
      "provenance": [],
      "collapsed_sections": [],
      "include_colab_link": true
    },
    "kernelspec": {
      "name": "python3",
      "display_name": "Python 3"
    }
  },
  "cells": [
    {
      "cell_type": "markdown",
      "metadata": {
        "id": "view-in-github",
        "colab_type": "text"
      },
      "source": [
        "<a href=\"https://colab.research.google.com/github/GabrielLourenco12/python_first_steps/blob/master/Operador_condicional.ipynb\" target=\"_parent\"><img src=\"https://colab.research.google.com/assets/colab-badge.svg\" alt=\"Open In Colab\"/></a>"
      ]
    },
    {
      "cell_type": "markdown",
      "metadata": {
        "id": "pt5Crzm9dcS-"
      },
      "source": [
        "# Operador condicional"
      ]
    },
    {
      "cell_type": "code",
      "metadata": {
        "id": "hLMwOWhm9EQH",
        "outputId": "27d2c7c2-044c-4613-9b37-17c831503d2c",
        "colab": {
          "base_uri": "https://localhost:8080/",
          "height": 35
        }
      },
      "source": [
        "5 > 3"
      ],
      "execution_count": null,
      "outputs": [
        {
          "output_type": "execute_result",
          "data": {
            "text/plain": [
              "True"
            ]
          },
          "metadata": {
            "tags": []
          },
          "execution_count": 1
        }
      ]
    },
    {
      "cell_type": "code",
      "metadata": {
        "id": "l0Ipmn5t9UZM",
        "outputId": "369a05f5-3579-44ea-b45f-cfde2c38f896",
        "colab": {
          "base_uri": "https://localhost:8080/",
          "height": 35
        }
      },
      "source": [
        "if 5 > 3:\n",
        "  print('5 é maior que 3')\n",
        "#print('teste')"
      ],
      "execution_count": null,
      "outputs": [
        {
          "output_type": "stream",
          "text": [
            "5 é maior que 3\n"
          ],
          "name": "stdout"
        }
      ]
    },
    {
      "cell_type": "code",
      "metadata": {
        "id": "-bnw5b_o-EXg",
        "outputId": "b14024b8-ce62-4711-ed77-760250fa945e",
        "colab": {
          "base_uri": "https://localhost:8080/",
          "height": 35
        }
      },
      "source": [
        "num = 10\n",
        "if 5 > num:\n",
        "  print('5 é maior')\n",
        "else:\n",
        "  print('5 não é maior')"
      ],
      "execution_count": null,
      "outputs": [
        {
          "output_type": "stream",
          "text": [
            "5 não é maior\n"
          ],
          "name": "stdout"
        }
      ]
    },
    {
      "cell_type": "code",
      "metadata": {
        "id": "ed6VhpYG_CPo",
        "outputId": "7712a30c-9312-44c7-c20d-9dd7336ec482",
        "colab": {
          "base_uri": "https://localhost:8080/",
          "height": 35
        }
      },
      "source": [
        "n = 9\n",
        "if n == 4:\n",
        "  print('n é igual a 4')\n",
        "else:\n",
        "  if n == 3:\n",
        "    print('n é igual a 3')\n",
        "  else:\n",
        "    print('n não é igual a 4 nem 3')"
      ],
      "execution_count": null,
      "outputs": [
        {
          "output_type": "stream",
          "text": [
            "n não é igual a 4 nem 3\n"
          ],
          "name": "stdout"
        }
      ]
    },
    {
      "cell_type": "code",
      "metadata": {
        "id": "MXvFuxeU_jl4",
        "outputId": "5d27b17b-1085-40bc-9367-d6caf556be5a",
        "colab": {
          "base_uri": "https://localhost:8080/",
          "height": 35
        }
      },
      "source": [
        "x = 1\n",
        "y = 6\n",
        "if (x > 1) or (y % 2 == 0):\n",
        "  print('x é maior que 1 ou y é par')\n",
        "else:\n",
        "  print('Nenhuma das condições foram satisfeitas')"
      ],
      "execution_count": null,
      "outputs": [
        {
          "output_type": "stream",
          "text": [
            "x é maior que 1 ou y é par\n"
          ],
          "name": "stdout"
        }
      ]
    }
  ]
}