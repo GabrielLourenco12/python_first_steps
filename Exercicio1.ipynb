{
  "nbformat": 4,
  "nbformat_minor": 0,
  "metadata": {
    "colab": {
      "name": "Exercicio1.ipynb",
      "provenance": [],
      "collapsed_sections": [],
      "authorship_tag": "ABX9TyMpxL5IbMOC3eIobE/LhtUM",
      "include_colab_link": true
    },
    "kernelspec": {
      "name": "python3",
      "display_name": "Python 3"
    }
  },
  "cells": [
    {
      "cell_type": "markdown",
      "metadata": {
        "id": "view-in-github",
        "colab_type": "text"
      },
      "source": [
        "<a href=\"https://colab.research.google.com/github/GabrielLourenco12/python_first_steps/blob/master/Exercicio1.ipynb\" target=\"_parent\"><img src=\"https://colab.research.google.com/assets/colab-badge.svg\" alt=\"Open In Colab\"/></a>"
      ]
    },
    {
      "cell_type": "markdown",
      "metadata": {
        "id": "eghkFguqvsEd"
      },
      "source": [
        ""
      ]
    },
    {
      "cell_type": "markdown",
      "metadata": {
        "id": "4-0YIDv9vuZh"
      },
      "source": [
        "## Exercícios 1"
      ]
    },
    {
      "cell_type": "markdown",
      "metadata": {
        "id": "0yOHUgurv-1I"
      },
      "source": [
        "Ler dois números inteiros, executar e mostrar o resultado das seguintes operações: adição, subtração, multiplicação e divisão"
      ]
    },
    {
      "cell_type": "code",
      "metadata": {
        "id": "m9nEv6MNv3EK",
        "outputId": "6bd7f05c-9dbf-4b26-e62c-f9876ec559bc",
        "colab": {
          "base_uri": "https://localhost:8080/",
          "height": 118
        }
      },
      "source": [
        "a = float(input('Digite o primeiro número: '))\n",
        "b = float(input('Digite o segundo número: '))\n",
        "print('A soma é', a + b)\n",
        "print('A subtração é', a - b)\n",
        "print('A divisão é', a / b)\n",
        "print('A multiplicação é', a * b)"
      ],
      "execution_count": null,
      "outputs": [
        {
          "output_type": "stream",
          "text": [
            "Digite o primeiro número: 10\n",
            "Digite o segundo número: 5\n",
            "A soma é 15.0\n",
            "A subtração é 5.0\n",
            "A divisão é 2.0\n",
            "A multiplicação é 50.0\n"
          ],
          "name": "stdout"
        }
      ]
    },
    {
      "cell_type": "markdown",
      "metadata": {
        "id": "e3FNMiPRwsuf"
      },
      "source": [
        "Efetuar o cálculo da quantidade de litros de combustível gasto em uma viagem, utilizando um automóvel que faz 12 Km por litro. Para obter o cálculo, o usuário deve fornecer o tempo gasto na viagem e a velocidade média durante ela. Desta forma, será possível obter a distância percorrida com a fórmula DISTANCIA = TEMPO * VELOCIDADE. Tendo o valor da distância, basta calcular a quantidade de litros de combustível utilizada na viagem, com a fórmula: LITROS_USADOS = DISTANCIA / 12. O programa deve apresentar os valores da velocidade média, tempo gasto na viagem, a distância percorrida e a quantidade de litros utilizada na viagem"
      ]
    },
    {
      "cell_type": "code",
      "metadata": {
        "id": "Yaqv0_I9vogJ",
        "outputId": "cda47a09-4692-4833-b014-3d7a6a97de7a",
        "colab": {
          "base_uri": "https://localhost:8080/",
          "height": 84
        }
      },
      "source": [
        "automovel_km_litro = 12\n",
        "tempo_viagem = (float(input('Digite o tempo da viagem em minutos: ')))/60\n",
        "velocidade_média = float(input('Digite a velocidade média km/h: '))\n",
        "distancia = tempo_viagem * velocidade_média\n",
        "print('A distância percorrida foi',distancia,'Km' )\n",
        "litros_usados = distancia/automovel_km_litro\n",
        "print('A quantidade de combustível usada foi',round(litros_usados,1),'L' )\n",
        "\n"
      ],
      "execution_count": null,
      "outputs": [
        {
          "output_type": "stream",
          "text": [
            "Digite o tempo da viagem em minutos: 100\n",
            "Digite a velocidade média km/h: 60\n",
            "A distância percorrida foi 100.0 Km\n",
            "A quantidade de combustível usada foi 8.3 L\n"
          ],
          "name": "stdout"
        }
      ]
    }
  ]
}