{
  "nbformat": 4,
  "nbformat_minor": 0,
  "metadata": {
    "colab": {
      "name": "Manipulação de arquivos.ipynb",
      "provenance": [],
      "collapsed_sections": [],
      "include_colab_link": true
    },
    "kernelspec": {
      "name": "python3",
      "display_name": "Python 3"
    }
  },
  "cells": [
    {
      "cell_type": "markdown",
      "metadata": {
        "id": "view-in-github",
        "colab_type": "text"
      },
      "source": [
        "<a href=\"https://colab.research.google.com/github/GabrielLourenco12/python_first_steps/blob/master/Manipula%C3%A7%C3%A3o_de_arquivos.ipynb\" target=\"_parent\"><img src=\"https://colab.research.google.com/assets/colab-badge.svg\" alt=\"Open In Colab\"/></a>"
      ]
    },
    {
      "cell_type": "markdown",
      "metadata": {
        "id": "2mwCD5b1rYff"
      },
      "source": [
        "# Manipulação de arquivos"
      ]
    },
    {
      "cell_type": "code",
      "metadata": {
        "id": "ArTonogGOsJn",
        "outputId": "cfc29c6c-002e-4922-856f-5a85051db5ae",
        "colab": {
          "base_uri": "https://localhost:8080/",
          "height": 134
        }
      },
      "source": [
        "with open('/content/frase1.txt', 'r') as tex:\n",
        "  for linha in tex:\n",
        "    print(linha)"
      ],
      "execution_count": null,
      "outputs": [
        {
          "output_type": "stream",
          "text": [
            "Olá\n",
            "\n",
            "Estou aprendendo\n",
            "\n",
            "a linguagem Python\n",
            "\n",
            "e estou aprendendo muito\n"
          ],
          "name": "stdout"
        }
      ]
    },
    {
      "cell_type": "code",
      "metadata": {
        "id": "wcWclSzJPFIL"
      },
      "source": [
        "with open('/content/frase1.txt') as tex:\n",
        "  r = tex.readlines()"
      ],
      "execution_count": null,
      "outputs": []
    },
    {
      "cell_type": "code",
      "metadata": {
        "id": "U3uJreD9PLvj",
        "outputId": "8ed89d51-b385-4b96-c207-7aed01a34540",
        "colab": {
          "base_uri": "https://localhost:8080/",
          "height": 84
        }
      },
      "source": [
        "r"
      ],
      "execution_count": null,
      "outputs": [
        {
          "output_type": "execute_result",
          "data": {
            "text/plain": [
              "['Olá\\n',\n",
              " 'Estou aprendendo\\n',\n",
              " 'a linguagem Python\\n',\n",
              " 'e estou aprendendo muito']"
            ]
          },
          "metadata": {
            "tags": []
          },
          "execution_count": 4
        }
      ]
    },
    {
      "cell_type": "code",
      "metadata": {
        "id": "6dq9eo69PWrb"
      },
      "source": [
        "with open('texto2.txt', 'w') as texto:\n",
        "  texto.write('Olá a todos')"
      ],
      "execution_count": null,
      "outputs": []
    },
    {
      "cell_type": "code",
      "metadata": {
        "id": "NdKoO4PoPvzP",
        "outputId": "51941370-8164-432d-d131-d6e08877635d",
        "colab": {
          "base_uri": "https://localhost:8080/",
          "height": 34
        }
      },
      "source": [
        "with open('texto2.txt', 'r') as tex:\n",
        "  for linha in tex:\n",
        "    print(linha)"
      ],
      "execution_count": null,
      "outputs": [
        {
          "output_type": "stream",
          "text": [
            "Olá a todos\n"
          ],
          "name": "stdout"
        }
      ]
    },
    {
      "cell_type": "code",
      "metadata": {
        "id": "aV4gGlGW6NOT"
      },
      "source": [
        ""
      ],
      "execution_count": null,
      "outputs": []
    }
  ]
}